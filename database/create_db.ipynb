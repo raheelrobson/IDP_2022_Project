{
 "cells": [
  {
   "cell_type": "markdown",
   "metadata": {},
   "source": [
    "# Create and Insert Data to SQLite"
   ]
  },
  {
   "cell_type": "code",
   "execution_count": 35,
   "metadata": {},
   "outputs": [],
   "source": [
    "# read tiff file\n",
    "from spectral_tiffs import read_stiff, read_mtiff\n",
    "import matplotlib.pyplot as plt\n",
    "import plotly.express as px\n",
    "\n",
    "\n",
    "# read tiff and mask tiff file \n",
    "tiff_path = \"/Users/yusukemikami/Repos/IDP_2022_Project/data/Set 1, lower 10, icg.tiff\"\n",
    "spim, wavelengths, rgb, metadata = read_stiff(tiff_path)\n",
    "\n",
    "mask_path = \"/Users/yusukemikami/Repos/IDP_2022_Project/data/Set 1, lower 10, icg, mask.tiff\"\n",
    "masks = read_mtiff(mask_path)"
   ]
  },
  {
   "cell_type": "code",
   "execution_count": 36,
   "metadata": {},
   "outputs": [],
   "source": [
    "## save data to sqlite\n",
    "import sqlite3\n",
    "\n",
    "conn = sqlite3.connect('hsi_database', detect_types=sqlite3.PARSE_DECLTYPES)\n",
    "cursor = conn.cursor()"
   ]
  },
  {
   "cell_type": "code",
   "execution_count": 37,
   "metadata": {},
   "outputs": [],
   "source": [
    "sql_create_table = \"\"\" CREATE TABLE IF NOT EXISTS tiff_table (\n",
    "                                    id integer PRIMARY KEY,\n",
    "                                    name text NOT NULL,\n",
    "                                    spim blob,\n",
    "                                    rgb blob\n",
    "                                );\"\"\"\n",
    "count = cursor.execute(sql_create_table)"
   ]
  },
  {
   "cell_type": "code",
   "execution_count": 38,
   "metadata": {},
   "outputs": [
    {
     "name": "stdout",
     "output_type": "stream",
     "text": [
      "spim :  (1024, 1024, 37) wavelengths :  (37,) rgb :  (1024, 1024, 3) metadata :   masks :  (1024, 1024)\n"
     ]
    }
   ],
   "source": [
    "KEY_TIFF = \"Stroma, ICG\"\n",
    "print(\"spim : \",spim.shape, \"wavelengths : \",wavelengths.shape, \"rgb : \",rgb.shape, \"metadata : \",metadata, \"masks : \",masks[KEY_TIFF].shape)"
   ]
  },
  {
   "cell_type": "code",
   "execution_count": 55,
   "metadata": {},
   "outputs": [
    {
     "ename": "ValueError",
     "evalue": "could not convert BLOB to buffer",
     "output_type": "error",
     "traceback": [
      "\u001b[0;31m---------------------------------------------------------------------------\u001b[0m",
      "\u001b[0;31mValueError\u001b[0m                                Traceback (most recent call last)",
      "\u001b[0;32m/var/folders/_4/ph_tn4_977j1s8csvh_zz8v00000gn/T/ipykernel_11715/1703046032.py\u001b[0m in \u001b[0;36m<module>\u001b[0;34m\u001b[0m\n\u001b[1;32m      1\u001b[0m \u001b[0mquery\u001b[0m \u001b[0;34m=\u001b[0m \u001b[0;34mu'''insert into tiff_table VALUES(?,?,?,?)'''\u001b[0m\u001b[0;34m\u001b[0m\u001b[0;34m\u001b[0m\u001b[0m\n\u001b[1;32m      2\u001b[0m \u001b[0;34m\u001b[0m\u001b[0m\n\u001b[0;32m----> 3\u001b[0;31m \u001b[0mcursor\u001b[0m\u001b[0;34m.\u001b[0m\u001b[0mexecute\u001b[0m\u001b[0;34m(\u001b[0m\u001b[0mquery\u001b[0m\u001b[0;34m,\u001b[0m\u001b[0;34m(\u001b[0m\u001b[0;36m1234\u001b[0m\u001b[0;34m,\u001b[0m\u001b[0;34m\"icgtiff\"\u001b[0m\u001b[0;34m,\u001b[0m\u001b[0msqlite3\u001b[0m\u001b[0;34m.\u001b[0m\u001b[0mBinary\u001b[0m\u001b[0;34m(\u001b[0m\u001b[0mspim\u001b[0m\u001b[0;34m)\u001b[0m\u001b[0;34m,\u001b[0m\u001b[0msqlite3\u001b[0m\u001b[0;34m.\u001b[0m\u001b[0mBinary\u001b[0m\u001b[0;34m(\u001b[0m\u001b[0mspim\u001b[0m\u001b[0;34m)\u001b[0m\u001b[0;34m)\u001b[0m\u001b[0;34m)\u001b[0m\u001b[0;34m\u001b[0m\u001b[0;34m\u001b[0m\u001b[0m\n\u001b[0m\u001b[1;32m      4\u001b[0m \u001b[0mconn\u001b[0m\u001b[0;34m.\u001b[0m\u001b[0mcommit\u001b[0m\u001b[0;34m(\u001b[0m\u001b[0;34m)\u001b[0m\u001b[0;34m\u001b[0m\u001b[0;34m\u001b[0m\u001b[0m\n",
      "\u001b[0;31mValueError\u001b[0m: could not convert BLOB to buffer"
     ]
    }
   ],
   "source": [
    "query = u'''insert into tiff_table VALUES(?,?,?,?)'''\n",
    "\n",
    "cursor.execute(query,(1234,\"icgtiff\",sqlite3.Binary(spim),sqlite3.Binary(spim)))\n",
    "conn.commit()"
   ]
  },
  {
   "cell_type": "code",
   "execution_count": null,
   "metadata": {},
   "outputs": [
    {
     "ename": "OperationalError",
     "evalue": "near \"<\": syntax error",
     "output_type": "error",
     "traceback": [
      "\u001b[0;31m---------------------------------------------------------------------------\u001b[0m",
      "\u001b[0;31mOperationalError\u001b[0m                          Traceback (most recent call last)",
      "\u001b[0;32m/var/folders/_4/ph_tn4_977j1s8csvh_zz8v00000gn/T/ipykernel_11715/3209780308.py\u001b[0m in \u001b[0;36m<module>\u001b[0;34m\u001b[0m\n\u001b[1;32m      4\u001b[0m                         (1234,\"icgtiff\",{sqlite3.Binary(spim)},\"\")\"\"\"\n\u001b[1;32m      5\u001b[0m \u001b[0;34m\u001b[0m\u001b[0m\n\u001b[0;32m----> 6\u001b[0;31m \u001b[0mcount\u001b[0m \u001b[0;34m=\u001b[0m \u001b[0mcursor\u001b[0m\u001b[0;34m.\u001b[0m\u001b[0mexecute\u001b[0m\u001b[0;34m(\u001b[0m\u001b[0msqlite_insert_query\u001b[0m\u001b[0;34m)\u001b[0m\u001b[0;34m\u001b[0m\u001b[0;34m\u001b[0m\u001b[0m\n\u001b[0m",
      "\u001b[0;31mOperationalError\u001b[0m: near \"<\": syntax error"
     ]
    }
   ],
   "source": [
    "\n",
    "sqlite_insert_query = f\"\"\"INSERT INTO tiff_table\n",
    "                        (id, name, spim, rgb) \n",
    "                        VALUES \n",
    "                        (1234,\"icgtiff\",{sqlite3.Binary(spim)},\"\")\"\"\"\n",
    "\n",
    "count = cursor.execute(sqlite_insert_query)\n"
   ]
  },
  {
   "cell_type": "code",
   "execution_count": null,
   "metadata": {},
   "outputs": [
    {
     "data": {
      "text/html": [
       "<div>\n",
       "<style scoped>\n",
       "    .dataframe tbody tr th:only-of-type {\n",
       "        vertical-align: middle;\n",
       "    }\n",
       "\n",
       "    .dataframe tbody tr th {\n",
       "        vertical-align: top;\n",
       "    }\n",
       "\n",
       "    .dataframe thead th {\n",
       "        text-align: right;\n",
       "    }\n",
       "</style>\n",
       "<table border=\"1\" class=\"dataframe\">\n",
       "  <thead>\n",
       "    <tr style=\"text-align: right;\">\n",
       "      <th></th>\n",
       "      <th>id</th>\n",
       "      <th>name</th>\n",
       "      <th>spim</th>\n",
       "      <th>rgb</th>\n",
       "    </tr>\n",
       "  </thead>\n",
       "  <tbody>\n",
       "  </tbody>\n",
       "</table>\n",
       "</div>"
      ],
      "text/plain": [
       "Empty DataFrame\n",
       "Columns: [id, name, spim, rgb]\n",
       "Index: []"
      ]
     },
     "execution_count": 28,
     "metadata": {},
     "output_type": "execute_result"
    }
   ],
   "source": [
    "import pandas as pd\n",
    "df = pd.read_sql_query(\"SELECT * from tiff_table\", conn)\n",
    "df"
   ]
  }
 ],
 "metadata": {
  "kernelspec": {
   "display_name": "Python 3.7.9 ('IDP_2022_Project-FpjaOGVu')",
   "language": "python",
   "name": "python3"
  },
  "language_info": {
   "codemirror_mode": {
    "name": "ipython",
    "version": 3
   },
   "file_extension": ".py",
   "mimetype": "text/x-python",
   "name": "python",
   "nbconvert_exporter": "python",
   "pygments_lexer": "ipython3",
   "version": "3.7.9"
  },
  "orig_nbformat": 4,
  "vscode": {
   "interpreter": {
    "hash": "b932ce55ad5a2c685a49fdb684cd9be7c398cfd10623f78f9b5e1777a61e9bf3"
   }
  }
 },
 "nbformat": 4,
 "nbformat_minor": 2
}
